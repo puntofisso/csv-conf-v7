{
 "cells": [
  {
   "cell_type": "code",
   "execution_count": 1,
   "id": "dc8951aa",
   "metadata": {},
   "outputs": [],
   "source": [
    "import csv\n",
    "import pandas as pd\n",
    "import geopandas as gpd\n",
    "import osmnx as ox\n",
    "from shapely import Point\n",
    "from bng_latlon import OSGB36toWGS84"
   ]
  },
  {
   "cell_type": "code",
   "execution_count": 2,
   "id": "33793512",
   "metadata": {},
   "outputs": [],
   "source": [
    "# Read Stops Naptan file\n",
    "df_orig = pd.read_csv('Stops.csv', header=0, low_memory=False)\n",
    "# Columns ATCOCode,NaptanCode,PlateCode,CleardownCode,CommonName,CommonNameLang,ShortCommonName,ShortCommonNameLang,Landmark,LandmarkLang,Street,StreetLang,Crossing,CrossingLang,Indicator,IndicatorLang,Bearing,NptgLocalityCode,LocalityName,ParentLocalityName,GrandParentLocalityName,Town,TownLang,Suburb,SuburbLang,LocalityCentre,GridType,Easting,Northing,Longitude,Latitude,StopType,BusStopType,TimingStatus,DefaultWaitTime,Notes,NotesLang,AdministrativeAreaCode,CreationDateTime,ModificationDateTime,RevisionNumber,Modification,Status"
   ]
  },
  {
   "cell_type": "code",
   "execution_count": 3,
   "id": "1bb67307",
   "metadata": {},
   "outputs": [],
   "source": [
    "# Make a GeoDataFrame using the Longitude and Latitude fields\n",
    "df = df_orig.copy()\n",
    "df = df.drop(columns=['PlateCode','CleardownCode','Crossing','Suburb','LocalityCentre','StopType','GrandParentLocalityName','BusStopType','CommonNameLang','ShortCommonNameLang','LandmarkLang','StreetLang','CrossingLang','IndicatorLang','TownLang','SuburbLang','TimingStatus','DefaultWaitTime','Notes','NotesLang','CreationDateTime','ModificationDateTime','RevisionNumber','Modification'])\n",
    "gdf = gpd.GeoDataFrame(df, geometry=gpd.GeoSeries.from_xy(df['Longitude'], df['Latitude']), crs=4326)"
   ]
  },
  {
   "cell_type": "code",
   "execution_count": 4,
   "id": "3e35c037",
   "metadata": {},
   "outputs": [
    {
     "data": {
      "text/plain": [
       "<Axes: >"
      ]
     },
     "execution_count": 4,
     "metadata": {},
     "output_type": "execute_result"
    },
    {
     "data": {
      "image/png": "[encoded data removed]",
      "text/plain": [
       "<Figure size 640x480 with 1 Axes>"
      ]
     },
     "metadata": {},
     "output_type": "display_data"
    }
   ],
   "source": [
    "# Simple plot\n",
    "gdf.plot()"
   ]
  },
  {
   "cell_type": "code",
   "execution_count": 5,
   "id": "640d8228",
   "metadata": {},
   "outputs": [
    {
     "data": {
      "text/html": [
       "<div>\n",
       "<style scoped>\n",
       "    .dataframe tbody tr th:only-of-type {\n",
       "        vertical-align: middle;\n",
       "    }\n",
       "\n",
       "    .dataframe tbody tr th {\n",
       "        vertical-align: top;\n",
       "    }\n",
       "\n",
       "    .dataframe thead th {\n",
       "        text-align: right;\n",
       "    }\n",
       "</style>\n",
       "<table border=\"1\" class=\"dataframe\">\n",
       "  <thead>\n",
       "    <tr style=\"text-align: right;\">\n",
       "      <th></th>\n",
       "      <th>ATCOCode</th>\n",
       "      <th>NaptanCode</th>\n",
       "      <th>CommonName</th>\n",
       "      <th>ShortCommonName</th>\n",
       "      <th>Landmark</th>\n",
       "      <th>Street</th>\n",
       "      <th>Indicator</th>\n",
       "      <th>Bearing</th>\n",
       "      <th>NptgLocalityCode</th>\n",
       "      <th>LocalityName</th>\n",
       "      <th>ParentLocalityName</th>\n",
       "      <th>Town</th>\n",
       "      <th>GridType</th>\n",
       "      <th>Easting</th>\n",
       "      <th>Northing</th>\n",
       "      <th>Longitude</th>\n",
       "      <th>Latitude</th>\n",
       "      <th>AdministrativeAreaCode</th>\n",
       "      <th>Status</th>\n",
       "      <th>geometry</th>\n",
       "    </tr>\n",
       "  </thead>\n",
       "  <tbody>\n",
       "    <tr>\n",
       "      <th>375623</th>\n",
       "      <td>5710WDB48478</td>\n",
       "      <td>cditpjg</td>\n",
       "      <td>Penarth Heights</td>\n",
       "      <td>NaN</td>\n",
       "      <td>NaN</td>\n",
       "      <td>Arcot Street</td>\n",
       "      <td>not in use</td>\n",
       "      <td>N</td>\n",
       "      <td>E0035848</td>\n",
       "      <td>Penarth Moors</td>\n",
       "      <td>Cardiff</td>\n",
       "      <td>NaN</td>\n",
       "      <td>NaN</td>\n",
       "      <td>743237</td>\n",
       "      <td>611536</td>\n",
       "      <td>3.404267</td>\n",
       "      <td>55.278121</td>\n",
       "      <td>11</td>\n",
       "      <td>inactive</td>\n",
       "      <td>POINT (3.40427 55.27812)</td>\n",
       "    </tr>\n",
       "  </tbody>\n",
       "</table>\n",
       "</div>"
      ],
      "text/plain": [
       "            ATCOCode NaptanCode       CommonName ShortCommonName Landmark  \\\n",
       "375623  5710WDB48478    cditpjg  Penarth Heights             NaN      NaN   \n",
       "\n",
       "              Street   Indicator Bearing NptgLocalityCode   LocalityName  \\\n",
       "375623  Arcot Street  not in use       N         E0035848  Penarth Moors   \n",
       "\n",
       "       ParentLocalityName Town GridType  Easting  Northing  Longitude  \\\n",
       "375623            Cardiff  NaN      NaN   743237    611536   3.404267   \n",
       "\n",
       "         Latitude  AdministrativeAreaCode    Status                  geometry  \n",
       "375623  55.278121                      11  inactive  POINT (3.40427 55.27812)  "
      ]
     },
     "execution_count": 5,
     "metadata": {},
     "output_type": "execute_result"
    }
   ],
   "source": [
    "# Display suspicious point\n",
    "gdf[ (gdf['Longitude'] > 2.5)]"
   ]
  },
  {
   "cell_type": "code",
   "execution_count": 6,
   "id": "9035729c",
   "metadata": {},
   "outputs": [
    {
     "data": {
      "text/plain": [
       "London           21864\n",
       "Birmingham        5069\n",
       "Sheffield         3542\n",
       "Glasgow           3500\n",
       "Leeds             3473\n",
       "                 ...  \n",
       "Yarford              1\n",
       "Warmington           1\n",
       "Barthomley           1\n",
       "Woolstanwood         1\n",
       "North Nesting        1\n",
       "Name: ParentLocalityName, Length: 1850, dtype: int64"
      ]
     },
     "execution_count": 6,
     "metadata": {},
     "output_type": "execute_result"
    }
   ],
   "source": [
    "# Check how many entries per local authority\n",
    "df.ParentLocalityName.value_counts()"
   ]
  },
  {
   "cell_type": "code",
   "execution_count": 7,
   "id": "5ca74914",
   "metadata": {},
   "outputs": [],
   "source": [
    "# Extract graph of Glasgow using OSMNX\n",
    "Glasgow = ox.graph_from_place('Glasgow', network_type='drive')\n",
    "Glasgow_proj = ox.project_graph(Glasgow, to_crs='epsg:3035') # using 3035 because it's metric\n",
    "\n",
    "# Key geo is in fact Easting/Northing – for simplicity, here I use Lon/Lat, which doesn't have full coverage\n",
    "dfGlasgow = df[df['ParentLocalityName']==\"Glasgow\"]\n",
    "dfGlasgow =  dfGlasgow[~dfGlasgow['Longitude'].isna()]\n",
    "dfGlasgow.reset_index(inplace=True,drop=True)\n",
    "gdfGlasgow = gpd.GeoDataFrame(dfGlasgow, geometry=gpd.GeoSeries.from_xy(dfGlasgow['Longitude'], dfGlasgow['Latitude']), crs='epsg:3035')"
   ]
  },
  {
   "cell_type": "code",
   "execution_count": 8,
   "id": "dd84c902",
   "metadata": {},
   "outputs": [
    {
     "name": "stdout",
     "output_type": "stream",
     "text": [
      "9100ALXPD ((27432018, 27432022, 0), 15.510528195359685)\n",
      "9100ANSL ((86873440, 289767929, 0), 32.86422400972587)\n",
      "9100ASFIELD ((263679063, 263679059, 0), 10.600554772698116)\n",
      "9100BALISTN ((749883364, 778425769, 0), 37.11927753808497)\n",
      "9100BLGRVE ((27437069, 28096025, 0), 55.71026933270662)\n",
      "9100BNHL ((338716228, 295026202, 0), 23.121385244014373)\n",
      "9100BRIDGTN ((30039549, 94610187, 0), 14.6442920784617)\n",
      "9100CARMYLE ((289895757, 2096433672, 0), 75.23439203465473)\n",
      "9100CCRT ((986404011, 8763806081, 0), 34.1202391305199)\n",
      "9100CDNL ((77895651, 77895656, 0), 9.948066817973286)\n",
      "9100CFFT ((262841270, 262841518, 0), 59.653235513847314)\n",
      "9100CKHL ((6605901604, 60676358, 0), 46.92661116164154)\n",
      "9100CNTY ((581076901, 270384239, 0), 29.692528874358064)\n",
      "9100CROKSTN ((33725705, 29107370, 0), 27.87283952901534)\n",
      "9100CROSSHL ((450849971, 450849967, 0), 26.94564590486191)\n",
      "9100CRSMYLF ((28783706, 2202399156, 0), 29.754153016205457)\n",
      "9100DAWSHLM ((2913998, 60038020, 0), 23.64201286277117)\n",
      "9100DLMRNOK ((263247738, 1662148426, 0), 6.711007761002083)\n",
      "9100DRMCHPL ((961947456, 961947421, 0), 43.15726451143483)\n",
      "9100DUKEST ((27432366, 613759, 0), 10.064842235010836)\n",
      "9100DUMBRCK ((30847537, 659775, 0), 49.47719834664958)\n",
      "9100ESHS ((937643107, 937643213, 0), 26.267353833165114)\n",
      "9100EXHIBTC ((38405243, 3839569830, 0), 17.363215466481503)\n",
      "9100GARROWH ((759558003, 759557758, 0), 33.48931955808626)\n",
      "9100GSCD ((3986685002, 3986685001, 0), 28.70000758139072)\n",
      "9100HLNGTNE ((29746687, 36838335, 0), 44.44168685636611)\n",
      "9100HLNGTNW ((31560339, 31560324, 0), 73.39205437488145)\n",
      "9100HYNDLND ((26379260, 26263295, 0), 59.99468365145309)\n",
      "9100JORDANH ((671307, 290767082, 0), 67.5411389168836)\n",
      "9100KENISHD ((178654205, 257408600, 0), 34.35622936837781)\n",
      "9100KGPK ((1476474195, 262842615, 0), 58.550445625756794)\n",
      "9100LAMBH ((250079239, 663434313, 0), 41.75036451683887)\n",
      "9100LNSD ((3927363201, 258376633, 0), 26.386778272758946)\n",
      "9100MAXWLPK ((59848674, 36415445, 0), 16.34116882730314)\n",
      "9100MNTVRNN ((4538529388, 4418808739, 0), 20.533869396204224)\n",
      "9100MRYHILL ((250076728, 263677122, 0), 16.604438114877222)\n",
      "9100MSSPARK ((30004709, 60572417, 0), 33.7062276223329)\n",
      "9100MTFL ((61775748, 61775755, 0), 28.12349286805302)\n",
      "9100MUIREND ((28525273, 368184696, 0), 27.304553101897586)\n",
      "9100NITSH ((256593412, 256593377, 0), 48.096174787194904)\n",
      "9100PHLD ((262094373, 262093789, 0), 31.85932019817419)\n",
      "9100PLKLHDE ((60455099, 596147, 0), 32.71726086289616)\n",
      "9100PLKLHDW ((1698361130, 3910803999, 0), 23.861231127062197)\n",
      "9100PLKSHWE ((28530229, 258381381, 0), 46.1054667487469)\n",
      "9100PLKSHWW ((3882686121, 60438424, 0), 35.692102709393005)\n",
      "9100POSILPK ((263678920, 27407085, 0), 33.70524995816184)\n",
      "9100PTCK ((2093175029, 517432534, 0), 45.52831413542366)\n",
      "9100QUNPARK ((544786, 544785, 0), 16.326971474735135)\n",
      "9100RBRYSTN ((7929555300, 7121425930, 0), 66.00033293524038)\n",
      "9100SCTSTNH ((2364857061, 2364857129, 0), 0.3636666587022909)\n",
      "9100SHTLSTN ((328944634, 328944706, 1), 34.200391552769624)\n",
      "9100SHWLNDS ((4176532651, 36415475, 0), 55.72438454520995)\n",
      "9100SPRNGBN ((381983008, 343337068, 0), 25.064654907242968)\n",
      "9100SUMRSTN ((309415442, 250076781, 0), 31.82070798672615)\n",
      "9300GNQ ((76465476, 76465476, 1), 127.51132272709312)\n",
      "9300GOV ((615784996, 615792617, 0), 10.295045511667219)\n",
      "9300GOV1 ((615784996, 615792617, 0), 11.122292568611327)\n",
      "9300PLQ ((76465476, 76465476, 0), 84.07630596822473)\n",
      "9300PLQ1 ((76465476, 76465476, 1), 85.46824183730314)\n",
      "9300RVM ((2006630698, 1347877807, 0), 107.47391749623235)\n",
      "9300RVM1 ((2006630698, 1347877807, 0), 108.17193076876616)\n",
      "9300SEC ((76465461, 1659403247, 0), 12.578791571938192)\n",
      "9300SEC1 ((76465461, 1659403247, 0), 12.320297830031015)\n",
      "9300YOK ((988665532, 988665685, 0), 43.16691559341514)\n",
      "9400ZZGLBRI ((21747872, 613945, 0), 27.29075821212124)\n",
      "9400ZZGLBRI1 ((613945, 21747872, 0), 22.42286685653341)\n",
      "9400ZZGLBRI2 ((613945, 21747872, 0), 32.1586497282671)\n",
      "9400ZZGLCES ((56090537, 29490900, 0), 6.118038578459077)\n",
      "9400ZZGLCES1 ((29490900, 56090537, 0), 10.017771845326658)\n",
      "9400ZZGLCES2 ((29490900, 56090537, 0), 1.1515087847774028)\n",
      "9400ZZGLGOV ((6147705414, 6147705402, 0), 23.484006083432952)\n",
      "9400ZZGLGOV1 ((615792617, 30394077, 0), 23.27528918065574)\n",
      "9400ZZGLGOV2 ((6147705414, 6147705402, 0), 23.368991678704283)\n",
      "9400ZZGLHIL ((26843235, 26843204, 0), 19.54142145083878)\n",
      "9400ZZGLHIL1 ((26843204, 26843235, 0), 22.232315755606862)\n",
      "9400ZZGLHIL2 ((26843204, 26843235, 0), 16.850526926988113)\n",
      "9400ZZGLIBX ((2285138276, 29580719, 0), 20.57153912864058)\n",
      "9400ZZGLIBX1 ((2285138276, 2285138280, 0), 19.04933873949977)\n",
      "9400ZZGLIBX2 ((2285138276, 29580719, 0), 18.427573353676383)\n",
      "9400ZZGLKEB ((26997546, 26997545, 0), 9.14769477830779)\n",
      "9400ZZGLKEB1 ((26997545, 26997546, 0), 7.12705588522345)\n",
      "9400ZZGLKEB2 ((26997546, 26997545, 0), 11.146757542737523)\n",
      "9400ZZGLKEL ((445949, 26736961, 0), 29.67342298882575)\n",
      "9400ZZGLKEL1 ((445949, 26736961, 0), 25.17664237445579)\n",
      "9400ZZGLKEL2 ((445949, 26736961, 0), 34.14658920062323)\n",
      "9400ZZGLKIN ((54612576, 2311029, 0), 21.565063925323646)\n",
      "9400ZZGLKIN1 ((54612576, 2311029, 0), 22.17190793156016)\n",
      "9400ZZGLKIN2 ((54612576, 2311029, 0), 20.958220118461306)\n",
      "9400ZZGLPRT ((2093175029, 517432534, 0), 51.87709433730929)\n",
      "9400ZZGLPRT1 ((2093175029, 517432534, 0), 52.698548371534805)\n",
      "9400ZZGLPRT2 ((2093175029, 517432534, 0), 51.52968537794119)\n",
      "9400ZZGLSHL ((1816280277, 77944677, 0), 10.129359779277891)\n",
      "9400ZZGLSHL1 ((77944677, 1816280277, 0), 15.128331387374606)\n",
      "9400ZZGLSHL2 ((77944677, 1816280277, 0), 5.130389334451334)\n",
      "9400ZZGLSTG ((1363776107, 4181974645, 0), 11.370689506428056)\n",
      "9400ZZGLSTG1 ((1363776107, 440027541, 0), 12.216982442382024)\n",
      "9400ZZGLSTG2 ((1363776107, 4181974645, 0), 9.433126865996568)\n",
      "9400ZZGLWES ((249450532, 249450528, 0), 16.30724890370435)\n",
      "9400ZZGLWES1 ((30004683, 249450549, 0), 17.392507623666663)\n",
      "9400ZZGLWES2 ((249450532, 249450528, 0), 15.023322327684326)\n"
     ]
    }
   ],
   "source": [
    "# Find stops that are at least 10 metres away from a road, using Lon/Lat ()\n",
    "gdftouse = gdfGlasgow\n",
    "graph = Glasgow_proj\n",
    "\n",
    "# for row in range(len(gdftouse)):\n",
    "for row in range(100):\n",
    "    \n",
    "    lon = gdftouse.at[row, 'Longitude']\n",
    "    lat = gdftouse.at[row, 'Latitude']\n",
    "    \n",
    "    point = lat, lon\n",
    "\n",
    "    G = ox.graph_from_point(point, network_type='drive')\n",
    "    Gp = ox.project_graph(G)\n",
    "    point_geom_proj, crs = ox.projection.project_geometry(Point(reversed(point)), to_crs=Gp.graph['crs'])\n",
    "    \n",
    "    x, y = point_geom_proj.x, point_geom_proj.y\n",
    "    nearest = ox.nearest_edges(Gp, x, y, return_dist=True)\n",
    "    if (int(nearest[0][1]) > 10):\n",
    "        print(gdftouse.at[row, 'ATCOCode'] + \" \" + str(nearest))"
   ]
  },
  {
   "cell_type": "code",
   "execution_count": 9,
   "id": "04e18850",
   "metadata": {},
   "outputs": [],
   "source": [
    "# Here we'll use Easting and Northings - Extract graph of London using OSMNX\n",
    "London = ox.graph_from_place('London', network_type='drive')\n",
    "London_proj = ox.project_graph(London, to_crs='epsg:3035') # using 3035 because it's metric\n",
    "\n",
    "# Differently from Glasgow, we don't filter missing Lat/Lon, as we'll be using directly Easting and Northing\n",
    "dfLondon = df[df['ParentLocalityName']==\"London\"]\n",
    "dfLondon.reset_index(inplace=True,drop=True)\n",
    "#gdfLondon = gpd.GeoDataFrame(dfLondon, geometry=gpd.GeoSeries.from_xy(dfLondon['Longitude'], dfLondon['Latitude']), crs='epsg:3035')"
   ]
  },
  {
   "cell_type": "code",
   "execution_count": null,
   "id": "3ae7b052",
   "metadata": {},
   "outputs": [
    {
     "name": "stdout",
     "output_type": "stream",
     "text": [
      "150008920N ((537998794, 2837722589, 0), 4.786108525527913)\n",
      "150008920S ((25736047, 227255988, 0), 0.9341930839584597)\n",
      "150008930 ((8629273304, 691344793, 0), 2.77046962249442)\n",
      "150022010003 ((227262167, 227263550, 0), 2.8777268386982797)\n",
      "1500220100Y3 ((227262167, 227263550, 0), 3.434967500413884)\n",
      "150042025008 ((321513055, 25640062, 0), 2.9607923964025122)\n",
      "1500420250Y8 ((321513055, 25640062, 0), 2.6919293727594757)\n",
      "1500624 ((691344790, 691344776, 0), 0.7856275317702552)\n",
      "1500IM383 ((691344776, 25742903, 0), 2.5426054670577916)\n",
      "1500IM383B ((691344776, 25742903, 0), 4.1995178952884515)\n",
      "210021002015 ((29439241, 29439192, 0), 6.6519766661858615)\n",
      "210021002020 ((257898240, 195769, 0), 11.491960104678908)\n",
      "210021002030 ((29439121, 29439206, 0), 2.942133842837757)\n",
      "210021002040 ((257894782, 257804763, 0), 15.34872405298859)\n",
      "210021002060 ((257804022, 29438824, 0), 7.700797032411415)\n",
      "210021002090 ((28921032, 28921034, 0), 7.117614724111225)\n",
      "210021002135 ((2249172873, 1020717147, 0), 4.27982214548341)\n",
      "210021002140 ((257889405, 257889378, 0), 3.981579106385695)\n",
      "210021002200 ((210392967, 620189, 0), 6.552556783853718)\n",
      "210021002210 ((257892997, 620189, 0), 8.707753319245287)\n",
      "210021002215 ((28928133, 28928135, 0), 6.968476462915314)\n",
      "210021002220 ((195785, 28928133, 0), 7.0076366386178455)\n",
      "210021002230 ((195587, 15887818, 0), 6.153317557880786)\n",
      "210021002320 ((9273358927, 28921029, 0), 3.7563154829516883)\n",
      "210021002340 ((210395543, 210383368, 0), 7.7121654302200735)\n",
      "210021002350 ((620187, 257806051, 0), 9.188329405430073)\n",
      "210021002360 ((1020717313, 257889836, 0), 6.029327804836001)\n",
      "210021002370 ((200201, 888945041, 0), 5.953394336672701)\n",
      "210021002465 ((28924884, 210352869, 0), 2.0615820817616584)\n",
      "210021002480 ((257613041, 195602, 0), 2.580446146948311)\n",
      "210021002530 ((257611180, 195587, 0), 4.921142096535689)\n"
     ]
    }
   ],
   "source": [
    "import warnings\n",
    "warnings.filterwarnings('ignore')\n",
    "\n",
    "dftouse = dfLondon\n",
    "graph = London\n",
    "\n",
    "for row in range(100):\n",
    "    \n",
    "    north = dftouse.at[row, 'Northing']\n",
    "    east = dftouse.at[row, 'Easting']\n",
    "\n",
    "\n",
    "    point = OSGB36toWGS84(east,north)\n",
    "    \n",
    "    G = ox.graph_from_point(point, network_type='drive')\n",
    "    Gp = ox.project_graph(G)\n",
    "    point_geom_proj, crs = ox.projection.project_geometry(Point(reversed(point)), to_crs=Gp.graph['crs'])\n",
    "    \n",
    "    x, y = point_geom_proj.x, point_geom_proj.y\n",
    "    nearest = ox.nearest_edges(Gp, x, y, return_dist=True)    \n",
    "    print(dftouse.at[row, 'ATCOCode'], str(nearest))"
   ]
  },
  {
   "cell_type": "code",
   "execution_count": null,
   "id": "d41869e9",
   "metadata": {},
   "outputs": [],
   "source": []
  }
 ],
 "metadata": {
  "kernelspec": {
   "display_name": "Python 3 (ipykernel)",
   "language": "python",
   "name": "python3"
  },
  "language_info": {
   "codemirror_mode": {
    "name": "ipython",
    "version": 3
   },
   "file_extension": ".py",
   "mimetype": "text/x-python",
   "name": "python",
   "nbconvert_exporter": "python",
   "pygments_lexer": "ipython3",
   "version": "3.11.0"
  }
 },
 "nbformat": 4,
 "nbformat_minor": 5
}
